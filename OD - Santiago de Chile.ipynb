{
 "cells": [
  {
   "cell_type": "markdown",
   "metadata": {},
   "source": [
    "The files used in this notebook can be found in this folder:\n",
    "https://www.dropbox.com/home/Remix/Growth/International/Agencies%20by%20country/Chile/DPTM%20(Santiago%2C%20Chile)/OD/raw%20files%20-%20don't%20use%20these\n",
    "\n",
    "For the shapefile we used the file called `zones_shapefile.shp`\n",
    "For the OD data we used the file called `Abril2017.MatrizOD.csv`"
   ]
  },
  {
   "cell_type": "code",
   "execution_count": 82,
   "metadata": {},
   "outputs": [],
   "source": [
    "# Import libraries\n",
    "\n",
    "import pandas as pd\n",
    "import geopandas as gpd\n",
    "import numpy as np"
   ]
  },
  {
   "cell_type": "code",
   "execution_count": 83,
   "metadata": {},
   "outputs": [],
   "source": [
    "# Ingest the data\n",
    "# Change the path to your computer's\n",
    "\n",
    "shapefile_path = \"/Users/santiagotoso/GoogleDrive/Master/Python/Santiago de Chile/MatrizOD_Subidas_Bajadas_2017.04/zones_shapefile/zones_shapefile.shp\" \n",
    "od_input_path = \"/Users/santiagotoso/Downloads/MatrizOD_Subidas_Bajadas_2017.04/Abril2017.MatrizOD.csv\"\n",
    "shapefile = gpd.read_file(shapefile_path)\n",
    "od = pd.read_csv(od_input_path, sep=';')"
   ]
  },
  {
   "cell_type": "markdown",
   "metadata": {},
   "source": [
    "# Data files"
   ]
  },
  {
   "cell_type": "code",
   "execution_count": 69,
   "metadata": {},
   "outputs": [
    {
     "data": {
      "text/html": [
       "<div>\n",
       "<style scoped>\n",
       "    .dataframe tbody tr th:only-of-type {\n",
       "        vertical-align: middle;\n",
       "    }\n",
       "\n",
       "    .dataframe tbody tr th {\n",
       "        vertical-align: top;\n",
       "    }\n",
       "\n",
       "    .dataframe thead th {\n",
       "        text-align: right;\n",
       "    }\n",
       "</style>\n",
       "<table border=\"1\" class=\"dataframe\">\n",
       "  <thead>\n",
       "    <tr style=\"text-align: right;\">\n",
       "      <th></th>\n",
       "      <th>Periodo</th>\n",
       "      <th>ZonaSubida</th>\n",
       "      <th>ZonaBajada</th>\n",
       "      <th>nViajesSinBajada</th>\n",
       "      <th>nViajesConBajada</th>\n",
       "      <th>Expansion</th>\n",
       "    </tr>\n",
       "  </thead>\n",
       "  <tbody>\n",
       "    <tr>\n",
       "      <th>0</th>\n",
       "      <td>01 - PRE NOCTURNO</td>\n",
       "      <td>0</td>\n",
       "      <td>0</td>\n",
       "      <td>0</td>\n",
       "      <td>0</td>\n",
       "      <td>0</td>\n",
       "    </tr>\n",
       "    <tr>\n",
       "      <th>1</th>\n",
       "      <td>01 - PRE NOCTURNO</td>\n",
       "      <td>0</td>\n",
       "      <td>1</td>\n",
       "      <td>0</td>\n",
       "      <td>0</td>\n",
       "      <td>0</td>\n",
       "    </tr>\n",
       "    <tr>\n",
       "      <th>2</th>\n",
       "      <td>01 - PRE NOCTURNO</td>\n",
       "      <td>0</td>\n",
       "      <td>10</td>\n",
       "      <td>0</td>\n",
       "      <td>0</td>\n",
       "      <td>0</td>\n",
       "    </tr>\n",
       "    <tr>\n",
       "      <th>3</th>\n",
       "      <td>01 - PRE NOCTURNO</td>\n",
       "      <td>0</td>\n",
       "      <td>100</td>\n",
       "      <td>0</td>\n",
       "      <td>0</td>\n",
       "      <td>0</td>\n",
       "    </tr>\n",
       "    <tr>\n",
       "      <th>4</th>\n",
       "      <td>01 - PRE NOCTURNO</td>\n",
       "      <td>0</td>\n",
       "      <td>101</td>\n",
       "      <td>0</td>\n",
       "      <td>0</td>\n",
       "      <td>0</td>\n",
       "    </tr>\n",
       "  </tbody>\n",
       "</table>\n",
       "</div>"
      ],
      "text/plain": [
       "             Periodo  ZonaSubida  ZonaBajada  nViajesSinBajada  \\\n",
       "0  01 - PRE NOCTURNO           0           0                 0   \n",
       "1  01 - PRE NOCTURNO           0           1                 0   \n",
       "2  01 - PRE NOCTURNO           0          10                 0   \n",
       "3  01 - PRE NOCTURNO           0         100                 0   \n",
       "4  01 - PRE NOCTURNO           0         101                 0   \n",
       "\n",
       "   nViajesConBajada Expansion  \n",
       "0                 0         0  \n",
       "1                 0         0  \n",
       "2                 0         0  \n",
       "3                 0         0  \n",
       "4                 0         0  "
      ]
     },
     "execution_count": 69,
     "metadata": {},
     "output_type": "execute_result"
    }
   ],
   "source": [
    "od.head()"
   ]
  },
  {
   "cell_type": "code",
   "execution_count": 70,
   "metadata": {},
   "outputs": [
    {
     "name": "stdout",
     "output_type": "stream",
     "text": [
      "Number of origin zones in od = 803\n",
      "Number of detination zones = 803\n"
     ]
    }
   ],
   "source": [
    "# Check that we have a square metrix\n",
    "\n",
    "print(\"Number of origin zones in od = \" + str(len(od.ZonaSubida.unique())))\n",
    "print(\"Number of detination zones = \" + str(len(od.ZonaBajada.unique())))"
   ]
  },
  {
   "cell_type": "code",
   "execution_count": 71,
   "metadata": {},
   "outputs": [
    {
     "name": "stdout",
     "output_type": "stream",
     "text": [
      "['01 - PRE NOCTURNO' '02 - NOCTURNO' '03 - TRANSICION NOCTURNO'\n",
      " '04 - PUNTA MANANA' '05 - TRANSICION PUNTA MANANA'\n",
      " '06 - FUERA DE PUNTA MANANA' '07 - PUNTA MEDIODIA'\n",
      " '08 - FUERA DE PUNTA TARDE' '09 - PUNTA TARDE'\n",
      " '10 - TRANSICION PUNTA TARDE' '11 - FUERA DE PUNTA NOCTURNO'\n",
      " '12 - PRE NOCTURNO']\n"
     ]
    }
   ],
   "source": [
    "# Check different time periods\n",
    "\n",
    "print(od.Periodo.unique())"
   ]
  },
  {
   "cell_type": "code",
   "execution_count": 72,
   "metadata": {},
   "outputs": [
    {
     "data": {
      "text/html": [
       "<div>\n",
       "<style scoped>\n",
       "    .dataframe tbody tr th:only-of-type {\n",
       "        vertical-align: middle;\n",
       "    }\n",
       "\n",
       "    .dataframe tbody tr th {\n",
       "        vertical-align: top;\n",
       "    }\n",
       "\n",
       "    .dataframe thead th {\n",
       "        text-align: right;\n",
       "    }\n",
       "</style>\n",
       "<table border=\"1\" class=\"dataframe\">\n",
       "  <thead>\n",
       "    <tr style=\"text-align: right;\">\n",
       "      <th></th>\n",
       "      <th>origin_id</th>\n",
       "      <th>destination_id</th>\n",
       "      <th>count</th>\n",
       "    </tr>\n",
       "  </thead>\n",
       "  <tbody>\n",
       "    <tr>\n",
       "      <th>1934427</th>\n",
       "      <td>0</td>\n",
       "      <td>0</td>\n",
       "      <td>7,3854599</td>\n",
       "    </tr>\n",
       "    <tr>\n",
       "      <th>1934428</th>\n",
       "      <td>0</td>\n",
       "      <td>1</td>\n",
       "      <td>4,923639774</td>\n",
       "    </tr>\n",
       "    <tr>\n",
       "      <th>1934429</th>\n",
       "      <td>0</td>\n",
       "      <td>10</td>\n",
       "      <td>0</td>\n",
       "    </tr>\n",
       "    <tr>\n",
       "      <th>1934430</th>\n",
       "      <td>0</td>\n",
       "      <td>100</td>\n",
       "      <td>0</td>\n",
       "    </tr>\n",
       "    <tr>\n",
       "      <th>1934431</th>\n",
       "      <td>0</td>\n",
       "      <td>101</td>\n",
       "      <td>3,69272995</td>\n",
       "    </tr>\n",
       "  </tbody>\n",
       "</table>\n",
       "</div>"
      ],
      "text/plain": [
       "         origin_id  destination_id        count\n",
       "1934427          0               0    7,3854599\n",
       "1934428          0               1  4,923639774\n",
       "1934429          0              10            0\n",
       "1934430          0             100            0\n",
       "1934431          0             101   3,69272995"
      ]
     },
     "execution_count": 72,
     "metadata": {},
     "output_type": "execute_result"
    }
   ],
   "source": [
    "# Rename the columns\n",
    "# Filter only the time period the client wants to use\n",
    "\n",
    "od = od.rename(index=str, columns={\"ZonaSubida\": \"origin_id\", \"ZonaBajada\": \"destination_id\", \"Expansion\": \"count\"})\n",
    "\n",
    "manana = '04 - PUNTA MANANA'\n",
    "od_manana = od[od.Periodo == manana][[\"origin_id\",\"destination_id\", 'count']]\n",
    "od_manana.head()"
   ]
  },
  {
   "cell_type": "code",
   "execution_count": 73,
   "metadata": {},
   "outputs": [
    {
     "data": {
      "text/html": [
       "<div>\n",
       "<style scoped>\n",
       "    .dataframe tbody tr th:only-of-type {\n",
       "        vertical-align: middle;\n",
       "    }\n",
       "\n",
       "    .dataframe tbody tr th {\n",
       "        vertical-align: top;\n",
       "    }\n",
       "\n",
       "    .dataframe thead th {\n",
       "        text-align: right;\n",
       "    }\n",
       "</style>\n",
       "<table border=\"1\" class=\"dataframe\">\n",
       "  <thead>\n",
       "    <tr style=\"text-align: right;\">\n",
       "      <th></th>\n",
       "      <th>origin_id</th>\n",
       "      <th>destination_id</th>\n",
       "      <th>count</th>\n",
       "    </tr>\n",
       "  </thead>\n",
       "  <tbody>\n",
       "    <tr>\n",
       "      <th>1934427</th>\n",
       "      <td>0</td>\n",
       "      <td>0</td>\n",
       "      <td>7.38546</td>\n",
       "    </tr>\n",
       "    <tr>\n",
       "      <th>1934428</th>\n",
       "      <td>0</td>\n",
       "      <td>1</td>\n",
       "      <td>4.92364</td>\n",
       "    </tr>\n",
       "    <tr>\n",
       "      <th>1934429</th>\n",
       "      <td>0</td>\n",
       "      <td>10</td>\n",
       "      <td>0.00000</td>\n",
       "    </tr>\n",
       "    <tr>\n",
       "      <th>1934430</th>\n",
       "      <td>0</td>\n",
       "      <td>100</td>\n",
       "      <td>0.00000</td>\n",
       "    </tr>\n",
       "    <tr>\n",
       "      <th>1934431</th>\n",
       "      <td>0</td>\n",
       "      <td>101</td>\n",
       "      <td>3.69273</td>\n",
       "    </tr>\n",
       "  </tbody>\n",
       "</table>\n",
       "</div>"
      ],
      "text/plain": [
       "         origin_id  destination_id    count\n",
       "1934427          0               0  7.38546\n",
       "1934428          0               1  4.92364\n",
       "1934429          0              10  0.00000\n",
       "1934430          0             100  0.00000\n",
       "1934431          0             101  3.69273"
      ]
     },
     "execution_count": 73,
     "metadata": {},
     "output_type": "execute_result"
    }
   ],
   "source": [
    "# Change \",\" for \".\" in the numbers as string\n",
    "\n",
    "def point_for_comma(str):\n",
    "    return float(str.replace(\",\", \".\"))\n",
    "\n",
    "od_manana['count'] = od_manana['count'].apply(point_for_comma)\n",
    "od_manana.head()"
   ]
  },
  {
   "cell_type": "code",
   "execution_count": 76,
   "metadata": {},
   "outputs": [],
   "source": [
    "# Save the data file\n",
    "\n",
    "od_manana.to_csv(\"/Users/santiagotoso/GoogleDrive/Master/Python/Santiago de Chile/MatrizOD_Subidas_Bajadas_2017.04/od_santiago.csv\", index = False)"
   ]
  },
  {
   "cell_type": "markdown",
   "metadata": {},
   "source": [
    "# Shapefile"
   ]
  },
  {
   "cell_type": "code",
   "execution_count": 77,
   "metadata": {},
   "outputs": [
    {
     "data": {
      "text/html": [
       "<div>\n",
       "<style scoped>\n",
       "    .dataframe tbody tr th:only-of-type {\n",
       "        vertical-align: middle;\n",
       "    }\n",
       "\n",
       "    .dataframe tbody tr th {\n",
       "        vertical-align: top;\n",
       "    }\n",
       "\n",
       "    .dataframe thead th {\n",
       "        text-align: right;\n",
       "    }\n",
       "</style>\n",
       "<table border=\"1\" class=\"dataframe\">\n",
       "  <thead>\n",
       "    <tr style=\"text-align: right;\">\n",
       "      <th></th>\n",
       "      <th>Name</th>\n",
       "      <th>descriptio</th>\n",
       "      <th>timestamp</th>\n",
       "      <th>begin</th>\n",
       "      <th>end</th>\n",
       "      <th>altitudeMo</th>\n",
       "      <th>tessellate</th>\n",
       "      <th>extrude</th>\n",
       "      <th>visibility</th>\n",
       "      <th>drawOrder</th>\n",
       "      <th>icon</th>\n",
       "      <th>geometry</th>\n",
       "      <th>area_id</th>\n",
       "    </tr>\n",
       "  </thead>\n",
       "  <tbody>\n",
       "    <tr>\n",
       "      <th>0</th>\n",
       "      <td>584</td>\n",
       "      <td>&lt;table&gt;&lt;tr&gt;&lt;td&gt;Zona777&lt;/td&gt;&lt;td&gt;625&lt;/td&gt;&lt;/tr&gt;&lt;t...</td>\n",
       "      <td>None</td>\n",
       "      <td>None</td>\n",
       "      <td>None</td>\n",
       "      <td>None</td>\n",
       "      <td>1</td>\n",
       "      <td>0</td>\n",
       "      <td>-1</td>\n",
       "      <td>None</td>\n",
       "      <td>None</td>\n",
       "      <td>POLYGON Z ((-70.543571 -33.548025 0, -70.54293...</td>\n",
       "      <td>625</td>\n",
       "    </tr>\n",
       "    <tr>\n",
       "      <th>1</th>\n",
       "      <td>770</td>\n",
       "      <td>&lt;table&gt;&lt;tr&gt;&lt;td&gt;Zona777&lt;/td&gt;&lt;td&gt;806&lt;/td&gt;&lt;/tr&gt;&lt;t...</td>\n",
       "      <td>None</td>\n",
       "      <td>None</td>\n",
       "      <td>None</td>\n",
       "      <td>None</td>\n",
       "      <td>1</td>\n",
       "      <td>0</td>\n",
       "      <td>-1</td>\n",
       "      <td>None</td>\n",
       "      <td>None</td>\n",
       "      <td>POLYGON Z ((-70.787311 -33.564826 0, -70.79797...</td>\n",
       "      <td>806</td>\n",
       "    </tr>\n",
       "    <tr>\n",
       "      <th>2</th>\n",
       "      <td>596</td>\n",
       "      <td>&lt;table&gt;&lt;tr&gt;&lt;td&gt;Zona777&lt;/td&gt;&lt;td&gt;634&lt;/td&gt;&lt;/tr&gt;&lt;t...</td>\n",
       "      <td>None</td>\n",
       "      <td>None</td>\n",
       "      <td>None</td>\n",
       "      <td>None</td>\n",
       "      <td>1</td>\n",
       "      <td>0</td>\n",
       "      <td>-1</td>\n",
       "      <td>None</td>\n",
       "      <td>None</td>\n",
       "      <td>POLYGON Z ((-70.797974 -33.555577 0, -70.80288...</td>\n",
       "      <td>634</td>\n",
       "    </tr>\n",
       "  </tbody>\n",
       "</table>\n",
       "</div>"
      ],
      "text/plain": [
       "  Name                                         descriptio timestamp begin  \\\n",
       "0  584  <table><tr><td>Zona777</td><td>625</td></tr><t...      None  None   \n",
       "1  770  <table><tr><td>Zona777</td><td>806</td></tr><t...      None  None   \n",
       "2  596  <table><tr><td>Zona777</td><td>634</td></tr><t...      None  None   \n",
       "\n",
       "    end altitudeMo  tessellate  extrude  visibility drawOrder  icon  \\\n",
       "0  None       None           1        0          -1      None  None   \n",
       "1  None       None           1        0          -1      None  None   \n",
       "2  None       None           1        0          -1      None  None   \n",
       "\n",
       "                                            geometry area_id  \n",
       "0  POLYGON Z ((-70.543571 -33.548025 0, -70.54293...     625  \n",
       "1  POLYGON Z ((-70.787311 -33.564826 0, -70.79797...     806  \n",
       "2  POLYGON Z ((-70.797974 -33.555577 0, -70.80288...     634  "
      ]
     },
     "execution_count": 77,
     "metadata": {},
     "output_type": "execute_result"
    }
   ],
   "source": [
    "# Get the ID from the shapefile and create the id field \n",
    "# Notice that the zone ID is inside the \"descriptio\" filed \n",
    "\n",
    "import re\n",
    "\n",
    "def id_extractor(str):\n",
    "    x = re.split('>', str)[5]\n",
    "    y = x[:-4] \n",
    "    return y\n",
    "\n",
    "# Create the column \"area_id\" with the zone ID we just extracted\n",
    "\n",
    "shapefile['area_id']  = shapefile.descriptio.apply(id_extractor)\n",
    "shapefile.head(3)"
   ]
  },
  {
   "cell_type": "code",
   "execution_count": 78,
   "metadata": {},
   "outputs": [
    {
     "data": {
      "text/html": [
       "<div>\n",
       "<style scoped>\n",
       "    .dataframe tbody tr th:only-of-type {\n",
       "        vertical-align: middle;\n",
       "    }\n",
       "\n",
       "    .dataframe tbody tr th {\n",
       "        vertical-align: top;\n",
       "    }\n",
       "\n",
       "    .dataframe thead th {\n",
       "        text-align: right;\n",
       "    }\n",
       "</style>\n",
       "<table border=\"1\" class=\"dataframe\">\n",
       "  <thead>\n",
       "    <tr style=\"text-align: right;\">\n",
       "      <th></th>\n",
       "      <th>area_id</th>\n",
       "      <th>Name</th>\n",
       "      <th>geometry</th>\n",
       "    </tr>\n",
       "  </thead>\n",
       "  <tbody>\n",
       "    <tr>\n",
       "      <th>0</th>\n",
       "      <td>625</td>\n",
       "      <td>584</td>\n",
       "      <td>POLYGON Z ((-70.543571 -33.548025 0, -70.54293...</td>\n",
       "    </tr>\n",
       "    <tr>\n",
       "      <th>1</th>\n",
       "      <td>806</td>\n",
       "      <td>770</td>\n",
       "      <td>POLYGON Z ((-70.787311 -33.564826 0, -70.79797...</td>\n",
       "    </tr>\n",
       "    <tr>\n",
       "      <th>2</th>\n",
       "      <td>634</td>\n",
       "      <td>596</td>\n",
       "      <td>POLYGON Z ((-70.797974 -33.555577 0, -70.80288...</td>\n",
       "    </tr>\n",
       "  </tbody>\n",
       "</table>\n",
       "</div>"
      ],
      "text/plain": [
       "  area_id Name                                           geometry\n",
       "0     625  584  POLYGON Z ((-70.543571 -33.548025 0, -70.54293...\n",
       "1     806  770  POLYGON Z ((-70.787311 -33.564826 0, -70.79797...\n",
       "2     634  596  POLYGON Z ((-70.797974 -33.555577 0, -70.80288..."
      ]
     },
     "execution_count": 78,
     "metadata": {},
     "output_type": "execute_result"
    }
   ],
   "source": [
    "# Give the shapefile the correct projection\n",
    "# Create a new geo data frame with the relevant variables\n",
    "\n",
    "shapefile.crs = {'init': 'epsg:4326'}\n",
    "shapefile_output = shapefile[['area_id', 'Name', 'geometry']]\n",
    "shapefile_output.head(3)"
   ]
  },
  {
   "cell_type": "code",
   "execution_count": 79,
   "metadata": {},
   "outputs": [
    {
     "data": {
      "text/plain": [
       "{'AeronavFAA': 'r',\n",
       " 'ARCGEN': 'r',\n",
       " 'BNA': 'raw',\n",
       " 'DXF': 'raw',\n",
       " 'CSV': 'raw',\n",
       " 'OpenFileGDB': 'r',\n",
       " 'ESRI Shapefile': 'raw',\n",
       " 'GeoJSON': 'rw',\n",
       " 'GPKG': 'rw',\n",
       " 'GML': 'raw',\n",
       " 'GPX': 'raw',\n",
       " 'GPSTrackMaker': 'raw',\n",
       " 'Idrisi': 'r',\n",
       " 'MapInfo File': 'raw',\n",
       " 'DGN': 'raw',\n",
       " 'S57': 'r',\n",
       " 'SEGY': 'r',\n",
       " 'SUA': 'r'}"
      ]
     },
     "execution_count": 79,
     "metadata": {},
     "output_type": "execute_result"
    }
   ],
   "source": [
    "import fiona; fiona.supported_drivers"
   ]
  },
  {
   "cell_type": "code",
   "execution_count": 80,
   "metadata": {},
   "outputs": [
    {
     "name": "stderr",
     "output_type": "stream",
     "text": [
      "/Users/santiagotoso/anaconda3/lib/python3.6/site-packages/geopandas/io/file.py:108: FionaDeprecationWarning: Use fiona.Env() instead.\n",
      "  with fiona.drivers():\n"
     ]
    }
   ],
   "source": [
    "# Save the geo data frame as a shapefile\n",
    "\n",
    "shapefile_output.to_file(driver = 'ESRI Shapefile',\n",
    "                         #crs_wkt = prj,\n",
    "                         filename = \"/Users/santiagotoso/GoogleDrive/Master/Python/Santiago de Chile/MatrizOD_Subidas_Bajadas_2017.04/output_shapefile/output_shapefile.shp\" )"
   ]
  },
  {
   "cell_type": "code",
   "execution_count": 81,
   "metadata": {},
   "outputs": [
    {
     "data": {
      "text/html": [
       "<div>\n",
       "<style scoped>\n",
       "    .dataframe tbody tr th:only-of-type {\n",
       "        vertical-align: middle;\n",
       "    }\n",
       "\n",
       "    .dataframe tbody tr th {\n",
       "        vertical-align: top;\n",
       "    }\n",
       "\n",
       "    .dataframe thead th {\n",
       "        text-align: right;\n",
       "    }\n",
       "</style>\n",
       "<table border=\"1\" class=\"dataframe\">\n",
       "  <thead>\n",
       "    <tr style=\"text-align: right;\">\n",
       "      <th></th>\n",
       "      <th>area_id</th>\n",
       "      <th>Name</th>\n",
       "      <th>geometry</th>\n",
       "    </tr>\n",
       "  </thead>\n",
       "  <tbody>\n",
       "    <tr>\n",
       "      <th>0</th>\n",
       "      <td>625</td>\n",
       "      <td>584</td>\n",
       "      <td>POLYGON Z ((-70.543571 -33.548025 0, -70.54293...</td>\n",
       "    </tr>\n",
       "    <tr>\n",
       "      <th>1</th>\n",
       "      <td>806</td>\n",
       "      <td>770</td>\n",
       "      <td>POLYGON Z ((-70.787311 -33.564826 0, -70.79797...</td>\n",
       "    </tr>\n",
       "    <tr>\n",
       "      <th>2</th>\n",
       "      <td>634</td>\n",
       "      <td>596</td>\n",
       "      <td>POLYGON Z ((-70.797974 -33.555577 0, -70.80288...</td>\n",
       "    </tr>\n",
       "    <tr>\n",
       "      <th>3</th>\n",
       "      <td>487</td>\n",
       "      <td>457</td>\n",
       "      <td>POLYGON Z ((-70.566011 -33.550304 0, -70.56159...</td>\n",
       "    </tr>\n",
       "    <tr>\n",
       "      <th>4</th>\n",
       "      <td>439</td>\n",
       "      <td>384</td>\n",
       "      <td>POLYGON Z ((-70.73079 -33.594186 0, -70.735468...</td>\n",
       "    </tr>\n",
       "  </tbody>\n",
       "</table>\n",
       "</div>"
      ],
      "text/plain": [
       "  area_id Name                                           geometry\n",
       "0     625  584  POLYGON Z ((-70.543571 -33.548025 0, -70.54293...\n",
       "1     806  770  POLYGON Z ((-70.787311 -33.564826 0, -70.79797...\n",
       "2     634  596  POLYGON Z ((-70.797974 -33.555577 0, -70.80288...\n",
       "3     487  457  POLYGON Z ((-70.566011 -33.550304 0, -70.56159...\n",
       "4     439  384  POLYGON Z ((-70.73079 -33.594186 0, -70.735468..."
      ]
     },
     "execution_count": 81,
     "metadata": {},
     "output_type": "execute_result"
    }
   ],
   "source": [
    "# Does it look good?\n",
    "\n",
    "test = gpd.read_file(\"/Users/santiagotoso/GoogleDrive/Master/Python/Santiago de Chile/MatrizOD_Subidas_Bajadas_2017.04/output_shapefile/output_shapefile.shp\" )\n",
    "test.head()"
   ]
  },
  {
   "cell_type": "code",
   "execution_count": null,
   "metadata": {},
   "outputs": [],
   "source": []
  }
 ],
 "metadata": {
  "kernelspec": {
   "display_name": "Python 3",
   "language": "python",
   "name": "python3"
  },
  "language_info": {
   "codemirror_mode": {
    "name": "ipython",
    "version": 3
   },
   "file_extension": ".py",
   "mimetype": "text/x-python",
   "name": "python",
   "nbconvert_exporter": "python",
   "pygments_lexer": "ipython3",
   "version": "3.6.5"
  }
 },
 "nbformat": 4,
 "nbformat_minor": 2
}
