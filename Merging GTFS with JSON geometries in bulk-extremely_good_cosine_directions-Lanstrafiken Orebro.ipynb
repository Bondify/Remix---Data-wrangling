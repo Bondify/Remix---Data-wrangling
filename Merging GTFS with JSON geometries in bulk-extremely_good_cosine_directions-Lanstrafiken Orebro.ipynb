{
 "cells": [
  {
   "cell_type": "code",
   "execution_count": null,
   "metadata": {},
   "outputs": [],
   "source": [
    "from collections import defaultdict\n",
    "import csv\n",
    "import json\n",
    "from glob import glob\n",
    "import os\n",
    "import numpy as np\n",
    "import pandas as pd\n",
    "import partridge as ptg\n",
    "from scipy.spatial.distance import directed_hausdorff\n",
    "import shapefile"
   ]
  },
  {
   "cell_type": "code",
   "execution_count": null,
   "metadata": {},
   "outputs": [],
   "source": [
    "# shp_path uses only ONE json file\n",
    "# gtfs_path uses one or more GTFS files\n",
    "# in this case there are more than one GTFS as an example:\n",
    "# '/Users/Charlie/Downloads/output-0b06ab05-b943-4ddc-92e7-33b62ce82bf4/*'\n",
    "shp_path = '/Users/santiagotoso/GoogleDrive/Master/Python/Partridge/json.geojson'\n",
    "gtfs_path = '/Users/santiagotoso/GoogleDrive/Master/Python/Partridge/GTFS_for_test'\n",
    "#feed_paths = list(glob(gtfs_path))"
   ]
  },
  {
   "cell_type": "code",
   "execution_count": null,
   "metadata": {},
   "outputs": [],
   "source": [
    "#len(feed_paths)"
   ]
  },
  {
   "cell_type": "code",
   "execution_count": null,
   "metadata": {},
   "outputs": [],
   "source": [
    "# feed_paths[0]"
   ]
  },
  {
   "cell_type": "code",
   "execution_count": null,
   "metadata": {},
   "outputs": [],
   "source": [
    "with open(shp_path) as f:\n",
    "    fc = json.load(f)\n",
    "\n",
    "feed = ptg.load_raw_feed(gtfs_path)"
   ]
  },
  {
   "cell_type": "code",
   "execution_count": null,
   "metadata": {},
   "outputs": [],
   "source": [
    "feed"
   ]
  },
  {
   "cell_type": "code",
   "execution_count": null,
   "metadata": {},
   "outputs": [],
   "source": []
  },
  {
   "cell_type": "code",
   "execution_count": null,
   "metadata": {
    "scrolled": false
   },
   "outputs": [],
   "source": [
    "S = []\n",
    "for feature in fc['features']:\n",
    "    points = feature['geometry']['coordinates']\n",
    "    \n",
    "    bad_points = 0\n",
    "    while points[0] == points[-1]:\n",
    "        bad_points += 1\n",
    "        points = points[:-1]\n",
    "\n",
    "    if bad_points:\n",
    "        print('cleaned up {} wrapped points'.format(bad_points))\n",
    "\n",
    "    S.append(np.array(points))"
   ]
  },
  {
   "cell_type": "code",
   "execution_count": null,
   "metadata": {},
   "outputs": [],
   "source": [
    "import math\n",
    "\n",
    "def same_direction(p, s):\n",
    "    ''' Return True if the pattern and shape point in similar directions\n",
    "    '''\n",
    "    p_theta = math.atan2(p[-1][1] - p[0][1], p[-1][0] - p[0][0])\n",
    "    s_theta = math.atan2(s[-1][1] - s[0][1], s[-1][0] - s[0][0])\n",
    "    cosine = math.cos(p_theta - s_theta)\n",
    "    \n",
    "    # cosine is positive when p and s point in the same direction\n",
    "    return bool(cosine > 0)"
   ]
  },
  {
   "cell_type": "code",
   "execution_count": null,
   "metadata": {},
   "outputs": [],
   "source": [
    "def match_shapes_to_feed(inpath, outpath, S):\n",
    "    print('matching feed', inpath)\n",
    "    feed = ptg.load_raw_feed(inpath)\n",
    "\n",
    "    pattern_by_trip_id = {}\n",
    "    patterns = set()\n",
    "    for trip_id, stop_times in feed.stop_times.sort_values('stop_sequence').groupby('trip_id'):\n",
    "        pattern = tuple(stop_times.stop_id)\n",
    "        patterns.add(pattern)\n",
    "        pattern_by_trip_id[trip_id] = pattern\n",
    "\n",
    "    patterns = list(patterns)\n",
    "\n",
    "    stops = {}\n",
    "    for _, stop in feed.stops.iterrows():\n",
    "        stops[stop.stop_id] = (stop.stop_lon, stop.stop_lat)\n",
    "    \n",
    "    P = []\n",
    "    for pattern in patterns:\n",
    "        P.append([stops[stop_id] for stop_id in pattern])\n",
    "    \n",
    "    C = []\n",
    "    \n",
    "    # degrees_per_foot tells us how strict we wanna be when matching shapes\n",
    "    # bigger numbers imply more tolerance\n",
    "    degrees_per_foot = 3.788e-06\n",
    "    max_dist = 350 * degrees_per_foot\n",
    "    for p in P:\n",
    "        best_idx = None\n",
    "        best_dist = float('inf')\n",
    "        for j, s in enumerate(S):\n",
    "            if not same_direction(p, s):\n",
    "                continue\n",
    "            dist = directed_hausdorff(p, s)[0]\n",
    "            if dist > max_dist:\n",
    "                continue\n",
    "            if dist < best_dist:\n",
    "                best_dist = dist\n",
    "                best_idx = j\n",
    "\n",
    "        C.append(best_idx)\n",
    "    \n",
    "    shapes = {\n",
    "        'shape_id': [],\n",
    "        'shape_pt_sequence': [],\n",
    "        'shape_pt_lat': [],\n",
    "        'shape_pt_lon': [],\n",
    "    }\n",
    "\n",
    "    shape_id_by_pattern = {}\n",
    "    for shape_id, pattern in enumerate(patterns):\n",
    "        shape_id_by_pattern[pattern] = shape_id\n",
    "        if C[shape_id] is None:\n",
    "            continue\n",
    "        shape_points = S[C[shape_id]]\n",
    "        for shape_pt_sequence, (shape_pt_lon, shape_pt_lat) in enumerate(shape_points, start=1):\n",
    "            shapes['shape_id'].append(shape_id)\n",
    "            shapes['shape_pt_sequence'].append(shape_pt_sequence)\n",
    "            shapes['shape_pt_lon'].append(shape_pt_lon)\n",
    "            shapes['shape_pt_lat'].append(shape_pt_lat)\n",
    "        \n",
    "    output_feed = ptg.raw_feed(inpath)\n",
    "    \n",
    "    def get_shape_id_by_trip_id(trip_id):\n",
    "        pattern = pattern_by_trip_id[trip_id]\n",
    "        return shape_id_by_pattern[pattern]\n",
    "\n",
    "    output_feed.trips['shape_id'] = output_feed.trips.trip_id.apply(get_shape_id_by_trip_id)\n",
    "    \n",
    "    sdf = pd.DataFrame(shapes)\n",
    "\n",
    "    output_feed.shapes['shape_id'] = sdf.shape_id\n",
    "    output_feed.shapes['shape_pt_sequence'] = sdf.shape_pt_sequence\n",
    "    output_feed.shapes['shape_pt_lon'] = sdf.shape_pt_lon\n",
    "    output_feed.shapes['shape_pt_lat'] = sdf.shape_pt_lat\n",
    "    \n",
    "    print('writing feed', outpath)\n",
    "    ptg.writers.write_feed_dangerously(output_feed, outpath)"
   ]
  },
  {
   "cell_type": "code",
   "execution_count": null,
   "metadata": {},
   "outputs": [],
   "source": [
    "for inpath in gtfs_path:\n",
    "    fname = os.path.basename(inpath)\n",
    "    dirname = os.path.dirname(inpath)\n",
    "    basename, ext = os.path.splitext(fname)\n",
    "    outpath = os.path.join(dirname, 'outputs', basename + '_shapes'+ ext)\n",
    "    \n",
    "    match_shapes_to_feed(inpath, outpath, S)\n"
   ]
  },
  {
   "cell_type": "code",
   "execution_count": null,
   "metadata": {},
   "outputs": [],
   "source": []
  }
 ],
 "metadata": {
  "kernelspec": {
   "display_name": "Python 3",
   "language": "python",
   "name": "python3"
  },
  "language_info": {
   "codemirror_mode": {
    "name": "ipython",
    "version": 3
   },
   "file_extension": ".py",
   "mimetype": "text/x-python",
   "name": "python",
   "nbconvert_exporter": "python",
   "pygments_lexer": "ipython3",
   "version": "3.7.3"
  }
 },
 "nbformat": 4,
 "nbformat_minor": 2
}
